{
 "cells": [
  {
   "cell_type": "markdown",
   "metadata": {},
   "source": [
    "### Алгоритмы интеллектуальной обработки больших объемов данных\n",
    "## Домашнее задание №4 - Градиентный бустинг\n"
   ]
  },
  {
   "cell_type": "markdown",
   "metadata": {},
   "source": [
    "**Общая информация**\n",
    "\n",
    "**Срок сдачи:** 10 мая 2021, 08:30   \n",
    "**Штраф за опоздание:** -2 балла после 08:30 10 мая, -4 балла после 08:30 17 мая, -6 баллов после 08:30 24 мая, -8 баллов после 08:30 31 мая.\n",
    "\n",
    "При отправлении ДЗ указывайте фамилию в названии файла Присылать ДЗ необходимо в виде ссылки на свой github репозиторий на почту ml1.sphere@mail.ru с указанием темы в следующем формате:\n",
    "[ML0221, Задание 4] Фамилия Имя. \n",
    "\n",
    "\n",
    "Используйте данный Ipython Notebook при оформлении домашнего задания."
   ]
  },
  {
   "cell_type": "markdown",
   "metadata": {},
   "source": [
    "##  Считаем производные для функций потерь (1 балл)"
   ]
  },
  {
   "cell_type": "markdown",
   "metadata": {},
   "source": [
    "Мы будем реализовать градиентный бустинг для 3 функций потерь:\n",
    "\n",
    "1) MSE  $L(a(x_i), y_i) = (y_i - a(x_i)) ^ 2$\n",
    "\n",
    "2) Экспоненциальная  $L(a(x_i), y_i) = exp( -a(x_i) y_i), y_i \\in \\{-1, 1\\}$\n",
    "\n",
    "3) Логистическая  $L(a(x_i), y_i) = \\log (1 + exp( -a(x_i) y_i)), y_i \\in \\{-1, 1\\}$\n",
    "\n",
    "где $a(x_i)$ предсказание бустинга на итом объекте. \n",
    "\n",
    "Для каждой функции потерь напишите таргет, на который будет настраиваться каждое дерево в бустинге. "
   ]
  },
  {
   "cell_type": "markdown",
   "metadata": {},
   "source": [
    "Ваше решение тут"
   ]
  },
  {
   "cell_type": "code",
   "execution_count": 1,
   "metadata": {},
   "outputs": [],
   "source": [
    "def loss_MSE(ai, y):\n",
    "    return np.mean(np.square(y - ai))\n",
    "\n",
    "def target_MSE(ai, y):\n",
    "    return 2 *(ai - y)\n",
    "    \n",
    "def loss_exp(ai, y):\n",
    "    return np.mean(np.exp(- y * ai))\n",
    "\n",
    "def target_exp(ai, y):\n",
    "    return -y * np.exp(- y * ai)\n",
    "    \n",
    "def loss_log(ai, y):\n",
    "    return np.mean(np.log(1 + np.exp(- y * ai)))\n",
    "\n",
    "def target_log(ai, y):\n",
    "    return (- y * np.exp(-y * ai)) / (1 + np.exp(-y * ai))"
   ]
  },
  {
   "cell_type": "markdown",
   "metadata": {},
   "source": [
    "##  Реализуем градиентный бустинг (3 балла)"
   ]
  },
  {
   "cell_type": "markdown",
   "metadata": {},
   "source": [
    "Реализуйте класс градиентного бустинга для классификации. Ваша реализация бустинга должна работать по точности не более чем на 5 процентов хуже чем GradientBoostingClassifier из sklearn. \n"
   ]
  },
  {
   "cell_type": "markdown",
   "metadata": {},
   "source": [
    "Детали реализации:\n",
    "\n",
    "-- должно поддерживаться 3 функции потерь\n",
    "\n",
    "-- сами базовые алгоритмы(деревья, линейные модели и тп) реализовать не надо, просто возьмите готовые из sklearn\n",
    "\n",
    "-- в качестве функции потерь для построения одного дерева используйте MSE\n",
    "\n",
    "-- шаг в бустинге можно не подбирать, можно брать константный\n",
    "\n",
    "-- можно брать разные модели в качестве инициализации бустинга\n",
    "\n",
    "-- должны поддерживаться следующие параметры:\n",
    "\n",
    "а) число итераций\n",
    "б) размер шага\n",
    "в) процент случайных фичей при построении одного дерева\n",
    "д) процент случайных объектов при построении одного дерева\n",
    "е) параметры базового алгоритма (передавайте через **kwargs)"
   ]
  },
  {
   "cell_type": "code",
   "execution_count": 2,
   "metadata": {},
   "outputs": [],
   "source": [
    "import numpy as np\n",
    "\n",
    "from sklearn.datasets import load_wine\n",
    "from sklearn.ensemble import GradientBoostingClassifier\n",
    "from sklearn.metrics import accuracy_score\n",
    "from sklearn.model_selection import train_test_split\n",
    "from sklearn.tree import DecisionTreeRegressor, DecisionTreeClassifier\n",
    "from sklearn.dummy import DummyRegressor, DummyClassifier\n",
    "from tqdm.notebook import tqdm"
   ]
  },
  {
   "cell_type": "code",
   "execution_count": 3,
   "metadata": {},
   "outputs": [],
   "source": [
    "import warnings\n",
    "warnings.filterwarnings('ignore')"
   ]
  },
  {
   "cell_type": "code",
   "execution_count": 23,
   "metadata": {},
   "outputs": [],
   "source": [
    "class MyGradientBoostingClassifier:\n",
    "\n",
    "    def __init__(self, loss=\"logit\", learning_rate=1, n_estimator=100, colsample=0.4, subsample=0.4, *args, **kwargs):\n",
    "        \"\"\"\n",
    "        loss -- один из 3 лоссов:\n",
    "        learning_rate -- шаг бустинга\n",
    "        n_estimators -- число итераций\n",
    "        colsample -- процент рандомных признаков при обучнеии одного алгоритма\n",
    "        subsample -- процент рандомных объектов при обучнеии одного алгоритма\n",
    "        args, kwargs -- параметры  базовых моделей\n",
    "        \"\"\"\n",
    "        self.loss = loss\n",
    "        self.learning_rate = learning_rate\n",
    "        self.n_estimators = n_estimator\n",
    "        self.colsample = colsample\n",
    "        self.subsample = subsample\n",
    "        self.arg_params = args\n",
    "        self.kwarg_params = kwargs\n",
    "        \n",
    "        self.models = []\n",
    "        self.init_value_ = None\n",
    "        self.terminal_nodes_estimates_ = []\n",
    "        pass\n",
    "    \n",
    "    def __calc_loss(self, models, X, y):\n",
    "        ai = self._predict_est(X, models)\n",
    "        if self.loss == \"mse\":\n",
    "            return loss_MSE(ai, y)\n",
    "        elif self.loss == \"exponent\":\n",
    "            return loss_exp(ai, y)\n",
    "        elif self.loss == \"logit\":\n",
    "            return loss_log(ai, y)\n",
    "        else:\n",
    "            raise NotImplementedError()\n",
    "        \n",
    "    def __calc_target_grad(self, models, X, y):\n",
    "        if len(models) == 0:\n",
    "            return np.random.uniform(size=y.shape[0])\n",
    "        ai = self._predict_est(X, models)\n",
    "        if self.loss == \"mse\":\n",
    "            return target_MSE(ai, y)\n",
    "        elif self.loss == \"exponent\":\n",
    "            return target_exp(ai, y)\n",
    "        elif self.loss == \"logit\":\n",
    "            return target_log(ai, y)\n",
    "        else:\n",
    "            raise NotImplementedError()\n",
    "    \n",
    "    def fit(self, X, y, base_model=DecisionTreeRegressor, init_model=None):\n",
    "        \"\"\"\n",
    "        X -- объекты для обучения:\n",
    "        y -- таргеты для обучения\n",
    "        base_model -- класс базовых моделей, например sklearn.tree.DecisionTreeRegressor\n",
    "        init_model -- класс для первой модели, если None то берем константу (только для посл задания)\n",
    "        \"\"\"\n",
    "        if init_model is not None:\n",
    "            model = init_model()\n",
    "        else:\n",
    "            model = DummyRegressor(strategy=\"constant\", constant=0.0)\n",
    "        subsample_idx = np.random.choice(X.shape[0], round(X.shape[0] * self.subsample), replace=False)\n",
    "        sub_X = X[subsample_idx]\n",
    "        sub_y = y[subsample_idx]\n",
    "        target_grad = self.__calc_target_grad(self.models, sub_X, sub_y)\n",
    "        model.fit(sub_X, target_grad)\n",
    "        self.models.append(model)\n",
    "        \n",
    "        for i in tqdm(range(self.n_estimators)):\n",
    "            subsample_idx = np.random.choice(X.shape[0], round(X.shape[0] * self.subsample), replace=False)\n",
    "            sub_X = X[subsample_idx]\n",
    "            sub_y = y[subsample_idx]\n",
    "            target_grad = self.__calc_target_grad(self.models, sub_X, sub_y)\n",
    "            sub_feat = round(X.shape[1] * self.colsample)\n",
    "            model = base_model(max_features=sub_feat, *self.arg_params, **self.kwarg_params)\n",
    "            model.fit(sub_X, target_grad)\n",
    "            self.models.append(model)\n",
    "            train_loss = self.__calc_loss(self.models, sub_X, target_grad)\n",
    "            #print(f\"Iter: {i}, train_loss: {train_loss}\")\n",
    "        return self\n",
    "    \n",
    "    def _predict_est(self, X, models=None):\n",
    "        if models is None:\n",
    "            models = self.models\n",
    "        assert models is not None\n",
    "        pred = models[0].predict(X)\n",
    "        for m in models[1:]:\n",
    "            pred += self.learning_rate * m.predict(X)\n",
    "        return pred / len(models)\n",
    "\n",
    "    def predict(self, X, models=None):\n",
    "        if models is None:\n",
    "            models = self.models\n",
    "        assert models is not None\n",
    "        pred = models[0].predict(X)\n",
    "        for m in models[1:]:\n",
    "            pred += self.learning_rate * m.predict(X)\n",
    "        return np.around(-pred / len(models)).astype(int)"
   ]
  },
  {
   "cell_type": "code",
   "execution_count": 597,
   "metadata": {},
   "outputs": [],
   "source": [
    "my_clf = MyGradientBoostingClassifier()\n",
    "clf = GradientBoostingClassifier()"
   ]
  },
  {
   "cell_type": "code",
   "execution_count": 598,
   "metadata": {},
   "outputs": [
    {
     "name": "stdout",
     "output_type": "stream",
     "text": [
      "(160, 13) (160,)\n"
     ]
    }
   ],
   "source": [
    "wine = load_wine()\n",
    "X_train, X_test, y_train, y_test = train_test_split(wine.data, wine.target, test_size=0.1, stratify=wine.target)\n",
    "print(X_train.shape, y_train.shape)"
   ]
  },
  {
   "cell_type": "code",
   "execution_count": 599,
   "metadata": {},
   "outputs": [
    {
     "name": "stdout",
     "output_type": "stream",
     "text": [
      "0.9444444444444444\n",
      "1.0\n"
     ]
    }
   ],
   "source": [
    "my_clf.fit(X_train, y_train, DecisionTreeRegressor)\n",
    "clf.fit(X_train, y_train)\n",
    "print(accuracy_score(y_pred=clf.predict(X_test), y_true=y_test))\n",
    "print(accuracy_score(y_pred=my_clf.predict(X_test), y_true=y_test))"
   ]
  },
  {
   "cell_type": "markdown",
   "metadata": {},
   "source": [
    "## Подбираем параметры (2 балла)\n",
    "\n",
    "Давайте попробуем применить Ваш бустинг для предсказаний цены домов в Калифорнии. Чтобы можно было попробовтаь разные функции потерь, переведем по порогу таргет в 2 класса: дорогие и дешевые дома."
   ]
  },
  {
   "cell_type": "markdown",
   "metadata": {},
   "source": [
    "В задании нужно\n",
    "\n",
    "1) Построить график точности в зависимости от числа итераций на валидации.\n",
    "\n",
    "2) Подобрать оптимальные параметры Вашего бустинга на валидации. \n"
   ]
  },
  {
   "cell_type": "code",
   "execution_count": 8,
   "metadata": {},
   "outputs": [],
   "source": [
    "from sklearn.datasets import fetch_california_housing\n",
    "X, y = fetch_california_housing(return_X_y=True)"
   ]
  },
  {
   "cell_type": "code",
   "execution_count": 9,
   "metadata": {},
   "outputs": [
    {
     "name": "stdout",
     "output_type": "stream",
     "text": [
      "(20640, 8) (20640,)\n"
     ]
    }
   ],
   "source": [
    "# Превращаем регрессию в классификацию\n",
    "y = (y > 2.0).astype(int)\n",
    "print(X.shape, y.shape)"
   ]
  },
  {
   "cell_type": "code",
   "execution_count": 10,
   "metadata": {},
   "outputs": [],
   "source": [
    "X_train, X_test, y_train, y_test = train_test_split(X, y, test_size=0.1, stratify=y)"
   ]
  },
  {
   "cell_type": "code",
   "execution_count": 612,
   "metadata": {},
   "outputs": [
    {
     "name": "stdout",
     "output_type": "stream",
     "text": [
      "n_estimators: 20 accuracy: 0.7916666666666666\n",
      "n_estimators: 60 accuracy: 0.814922480620155\n",
      "n_estimators: 100 accuracy: 0.8187984496124031\n",
      "n_estimators: 200 accuracy: 0.8192829457364341\n",
      "n_estimators: 300 accuracy: 0.8217054263565892\n"
     ]
    }
   ],
   "source": [
    "est = [20, 60, 100, 200, 300]\n",
    "accuracy = []\n",
    "\n",
    "for n_estimators in est:\n",
    "    my_clf = MyGradientBoostingClassifier(learning_rate=1, n_estimator=n_estimators)\n",
    "    my_clf.fit(X_train, y_train, DecisionTreeRegressor)\n",
    "    pred = my_clf.predict(X_test)\n",
    "    acc = accuracy_score(pred, y_test)\n",
    "    accuracy.append(acc)\n",
    "    print(f\"n_estimators: {n_estimators} accuracy: {acc}\")"
   ]
  },
  {
   "cell_type": "code",
   "execution_count": 54,
   "metadata": {},
   "outputs": [],
   "source": [
    "import matplotlib.pyplot as plt"
   ]
  },
  {
   "cell_type": "code",
   "execution_count": 614,
   "metadata": {},
   "outputs": [
    {
     "data": {
      "text/plain": [
       "[<matplotlib.lines.Line2D at 0x26f30388fc8>]"
      ]
     },
     "execution_count": 614,
     "metadata": {},
     "output_type": "execute_result"
    },
    {
     "data": {
      "image/png": "[encoded data removed]",
      "text/plain": [
       "<Figure size 432x288 with 1 Axes>"
      ]
     },
     "metadata": {
      "needs_background": "light"
     },
     "output_type": "display_data"
    }
   ],
   "source": [
    "plt.title('Точность на валидации в зависимости от количества деревьев при learning_rate=1')\n",
    "plt.xlabel('Число деревьев')\n",
    "plt.ylabel('Точность')\n",
    "plt.plot(est, accuracy)"
   ]
  },
  {
   "cell_type": "code",
   "execution_count": 616,
   "metadata": {},
   "outputs": [
    {
     "name": "stdout",
     "output_type": "stream",
     "text": [
      "subsample: 0.2 accuracy: 0.8057170542635659\n",
      "subsample: 0.4 accuracy: 0.812015503875969\n",
      "subsample: 0.6 accuracy: 0.8221899224806202\n",
      "subsample: 0.8 accuracy: 0.8357558139534884\n",
      "subsample: 1 accuracy: 0.8435077519379846\n"
     ]
    }
   ],
   "source": [
    "subs = [0.2, 0.4, 0.6, 0.8, 1]\n",
    "accuracy = []\n",
    "\n",
    "for subsample in subs:\n",
    "    my_clf = MyGradientBoostingClassifier(learning_rate=1, n_estimator=100, subsample=subsample)\n",
    "    my_clf.fit(X_train, y_train, DecisionTreeRegressor)\n",
    "    pred = my_clf.predict(X_test)\n",
    "    acc = accuracy_score(pred, y_test)\n",
    "    accuracy.append(acc)\n",
    "    print(f\"subsample: {subsample} accuracy: {acc}\")"
   ]
  },
  {
   "cell_type": "code",
   "execution_count": 617,
   "metadata": {},
   "outputs": [
    {
     "data": {
      "text/plain": [
       "[<matplotlib.lines.Line2D at 0x26f1c62df08>]"
      ]
     },
     "execution_count": 617,
     "metadata": {},
     "output_type": "execute_result"
    },
    {
     "data": {
      "image/png": "[encoded data removed]",
      "text/plain": [
       "<Figure size 432x288 with 1 Axes>"
      ]
     },
     "metadata": {
      "needs_background": "light"
     },
     "output_type": "display_data"
    }
   ],
   "source": [
    "plt.title('Точность на валидации в зависимости от процента объектов при обучении')\n",
    "plt.xlabel('Процент объектов при обучении')\n",
    "plt.ylabel('Точность')\n",
    "plt.plot(subs, accuracy)"
   ]
  },
  {
   "cell_type": "code",
   "execution_count": 619,
   "metadata": {},
   "outputs": [
    {
     "name": "stdout",
     "output_type": "stream",
     "text": [
      "colsample: 0.2 accuracy: 0.8367248062015504\n",
      "colsample: 0.4 accuracy: 0.8420542635658915\n",
      "colsample: 0.6 accuracy: 0.8459302325581395\n",
      "colsample: 0.8 accuracy: 0.8396317829457365\n",
      "colsample: 1 accuracy: 0.8304263565891473\n"
     ]
    }
   ],
   "source": [
    "cols = [0.2, 0.4, 0.6, 0.8, 1]\n",
    "accuracy = []\n",
    "\n",
    "for colsample in cols:\n",
    "    my_clf = MyGradientBoostingClassifier(learning_rate=1, n_estimator=100, subsample=1, colsample=colsample)\n",
    "    my_clf.fit(X_train, y_train, DecisionTreeRegressor)\n",
    "    pred = my_clf.predict(X_test)\n",
    "    acc = accuracy_score(pred, y_test)\n",
    "    accuracy.append(acc)\n",
    "    print(f\"colsample: {colsample} accuracy: {acc}\")"
   ]
  },
  {
   "cell_type": "code",
   "execution_count": 620,
   "metadata": {},
   "outputs": [
    {
     "data": {
      "text/plain": [
       "[<matplotlib.lines.Line2D at 0x26f3046fe88>]"
      ]
     },
     "execution_count": 620,
     "metadata": {},
     "output_type": "execute_result"
    },
    {
     "data": {
      "image/png": "[encoded data removed]",
      "text/plain": [
       "<Figure size 432x288 with 1 Axes>"
      ]
     },
     "metadata": {
      "needs_background": "light"
     },
     "output_type": "display_data"
    }
   ],
   "source": [
    "plt.title('Точность на валидации в зависимости от процента признаков при обучении')\n",
    "plt.xlabel('Процент признаков при обучении')\n",
    "plt.ylabel('Точность')\n",
    "plt.plot(cols, accuracy)"
   ]
  },
  {
   "cell_type": "code",
   "execution_count": 625,
   "metadata": {},
   "outputs": [
    {
     "name": "stdout",
     "output_type": "stream",
     "text": [
      "max_depth: 3 accuracy: 0.7059108527131783\n",
      "max_depth: 5 accuracy: 0.7427325581395349\n",
      "max_depth: 7 accuracy: 0.7834302325581395\n",
      "max_depth: 10 accuracy: 0.814437984496124\n",
      "max_depth: 20 accuracy: 0.8386627906976745\n",
      "max_depth: 30 accuracy: 0.8401162790697675\n",
      "max_depth: 40 accuracy: 0.8425387596899225\n",
      "max_depth: 50 accuracy: 0.8381782945736435\n"
     ]
    }
   ],
   "source": [
    "depth = [3, 5, 7, 10, 20, 30, 40, 50]\n",
    "accuracy = []\n",
    "\n",
    "for max_depth in depth:\n",
    "    my_clf = MyGradientBoostingClassifier(loss='logit', learning_rate=1, n_estimator=100, subsample=1, colsample=0.6, max_depth=max_depth)\n",
    "    my_clf.fit(X_train, y_train, DecisionTreeRegressor)\n",
    "    pred = my_clf.predict(X_test)\n",
    "    acc = accuracy_score(pred, y_test)\n",
    "    accuracy.append(acc)\n",
    "    print(f\"max_depth: {max_depth} accuracy: {acc}\")"
   ]
  },
  {
   "cell_type": "code",
   "execution_count": 626,
   "metadata": {},
   "outputs": [
    {
     "data": {
      "text/plain": [
       "[<matplotlib.lines.Line2D at 0x26f30474588>]"
      ]
     },
     "execution_count": 626,
     "metadata": {},
     "output_type": "execute_result"
    },
    {
     "data": {
      "image/png": "[encoded data removed]",
      "text/plain": [
       "<Figure size 432x288 with 1 Axes>"
      ]
     },
     "metadata": {
      "needs_background": "light"
     },
     "output_type": "display_data"
    }
   ],
   "source": [
    "plt.title('Точность на валидации в зависимости от глубины деревьев')\n",
    "plt.xlabel('Глубина деревьев')\n",
    "plt.ylabel('Точность')\n",
    "plt.plot(depth, accuracy)"
   ]
  },
  {
   "cell_type": "code",
   "execution_count": 627,
   "metadata": {},
   "outputs": [
    {
     "name": "stdout",
     "output_type": "stream",
     "text": [
      "learning_rate: 0.01 accuracy: 0.5780038759689923\n",
      "learning_rate: 0.1 accuracy: 0.5780038759689923\n",
      "learning_rate: 0.3 accuracy: 0.5780038759689923\n",
      "learning_rate: 0.5 accuracy: 0.5780038759689923\n",
      "learning_rate: 0.7 accuracy: 0.5780038759689923\n",
      "learning_rate: 0.9 accuracy: 0.8008720930232558\n",
      "learning_rate: 1 accuracy: 0.8420542635658915\n"
     ]
    }
   ],
   "source": [
    "lr = [0.01, 0.1, 0.3, 0.5, 0.7, 0.9, 1]\n",
    "accuracy = []\n",
    "\n",
    "for learning_rate in lr:\n",
    "    my_clf = MyGradientBoostingClassifier(loss='logit', learning_rate=learning_rate, n_estimator=100, subsample=1, colsample=0.6, max_depth=30)\n",
    "    my_clf.fit(X_train, y_train, DecisionTreeRegressor)\n",
    "    pred = my_clf.predict(X_test)\n",
    "    acc = accuracy_score(pred, y_test)\n",
    "    accuracy.append(acc)\n",
    "    print(f\"learning_rate: {learning_rate} accuracy: {acc}\")"
   ]
  },
  {
   "cell_type": "code",
   "execution_count": 628,
   "metadata": {},
   "outputs": [
    {
     "data": {
      "text/plain": [
       "[<matplotlib.lines.Line2D at 0x26f30735548>]"
      ]
     },
     "execution_count": 628,
     "metadata": {},
     "output_type": "execute_result"
    },
    {
     "data": {
      "image/png": "[encoded data removed]",
      "text/plain": [
       "<Figure size 432x288 with 1 Axes>"
      ]
     },
     "metadata": {
      "needs_background": "light"
     },
     "output_type": "display_data"
    }
   ],
   "source": [
    "plt.title('Точность на валидации в зависимости от learning_rate')\n",
    "plt.xlabel('Learning_rate')\n",
    "plt.ylabel('Точность')\n",
    "plt.plot(lr, accuracy)"
   ]
  },
  {
   "cell_type": "markdown",
   "metadata": {},
   "source": [
    "**Итого параметры: loss = \"logit\", learning_rate = 1, n_estimators = 100, subsample = 1.0, colsample = 0.6, max_depth = 30**"
   ]
  },
  {
   "cell_type": "code",
   "execution_count": 20,
   "metadata": {},
   "outputs": [
    {
     "data": {
      "application/vnd.jupyter.widget-view+json": {
       "model_id": "c18e4e574e0844c1a1f07f849117f743",
       "version_major": 2,
       "version_minor": 0
      },
      "text/plain": [
       "  0%|          | 0/100 [00:00<?, ?it/s]"
      ]
     },
     "metadata": {},
     "output_type": "display_data"
    },
    {
     "name": "stdout",
     "output_type": "stream",
     "text": [
      "0.8575581395348837\n"
     ]
    }
   ],
   "source": [
    "my_clf = MyGradientBoostingClassifier(loss='logit', learning_rate=1, n_estimator=100, subsample=1, colsample=0.6, max_depth=30)\n",
    "my_clf.fit(X_train, y_train, DecisionTreeRegressor)\n",
    "finacc = accuracy_score(my_clf.predict(X_test), y_test)\n",
    "print(finacc)"
   ]
  },
  {
   "cell_type": "markdown",
   "metadata": {},
   "source": [
    "## BooBag BagBoo (1 балл)\n",
    "\n"
   ]
  },
  {
   "cell_type": "markdown",
   "metadata": {},
   "source": [
    "Попробуем объединить бустинг и бэгинг. Давайте\n",
    "\n",
    "1) в качестве базовой модели брать не дерево решений, а случайный лес (из sklearn)\n",
    "\n",
    "2) обучать N бустингов на бустрапированной выборке, а затем предикт усреднять"
   ]
  },
  {
   "cell_type": "markdown",
   "metadata": {},
   "source": [
    "Попробуйте обе этих стратегии на данных из прошлого задания. Получилось ли улучшить качество? Почему?"
   ]
  },
  {
   "cell_type": "code",
   "execution_count": 24,
   "metadata": {},
   "outputs": [],
   "source": [
    "from sklearn.ensemble import RandomForestRegressor"
   ]
  },
  {
   "cell_type": "code",
   "execution_count": 40,
   "metadata": {},
   "outputs": [
    {
     "data": {
      "application/vnd.jupyter.widget-view+json": {
       "model_id": "5356351c7d7645c98fdfc822582d1af5",
       "version_major": 2,
       "version_minor": 0
      },
      "text/plain": [
       "  0%|          | 0/100 [00:00<?, ?it/s]"
      ]
     },
     "metadata": {},
     "output_type": "display_data"
    },
    {
     "name": "stdout",
     "output_type": "stream",
     "text": [
      "0.8575581395348837\n",
      "0.8420542635658915\n"
     ]
    }
   ],
   "source": [
    "my_clf = MyGradientBoostingClassifier(loss='logit', learning_rate=1, n_estimator=100, subsample=1, colsample=0.6, n_estimators=20)\n",
    "my_clf.fit(X_train, y_train, RandomForestRegressor)\n",
    "print(finacc)\n",
    "print(accuracy_score(my_clf.predict(X_test), y_test))"
   ]
  },
  {
   "cell_type": "code",
   "execution_count": 38,
   "metadata": {},
   "outputs": [
    {
     "data": {
      "application/vnd.jupyter.widget-view+json": {
       "model_id": "78dbe55305a74d0ea1ea59a2049f0585",
       "version_major": 2,
       "version_minor": 0
      },
      "text/plain": [
       "  0%|          | 0/100 [00:00<?, ?it/s]"
      ]
     },
     "metadata": {},
     "output_type": "display_data"
    },
    {
     "data": {
      "application/vnd.jupyter.widget-view+json": {
       "model_id": "775e46d6e0484135ad33efc7583ab32a",
       "version_major": 2,
       "version_minor": 0
      },
      "text/plain": [
       "  0%|          | 0/100 [00:00<?, ?it/s]"
      ]
     },
     "metadata": {},
     "output_type": "display_data"
    },
    {
     "data": {
      "application/vnd.jupyter.widget-view+json": {
       "model_id": "cbb07422361d4803a6196984a3fafb87",
       "version_major": 2,
       "version_minor": 0
      },
      "text/plain": [
       "  0%|          | 0/100 [00:00<?, ?it/s]"
      ]
     },
     "metadata": {},
     "output_type": "display_data"
    },
    {
     "data": {
      "application/vnd.jupyter.widget-view+json": {
       "model_id": "f9447e4c542344c18bff956b8d815a7d",
       "version_major": 2,
       "version_minor": 0
      },
      "text/plain": [
       "  0%|          | 0/100 [00:00<?, ?it/s]"
      ]
     },
     "metadata": {},
     "output_type": "display_data"
    },
    {
     "data": {
      "application/vnd.jupyter.widget-view+json": {
       "model_id": "79b75d826bf444eaadcec960c98e651e",
       "version_major": 2,
       "version_minor": 0
      },
      "text/plain": [
       "  0%|          | 0/100 [00:00<?, ?it/s]"
      ]
     },
     "metadata": {},
     "output_type": "display_data"
    },
    {
     "data": {
      "application/vnd.jupyter.widget-view+json": {
       "model_id": "8d325b0ed74e453bbc8f208033a1dd30",
       "version_major": 2,
       "version_minor": 0
      },
      "text/plain": [
       "  0%|          | 0/100 [00:00<?, ?it/s]"
      ]
     },
     "metadata": {},
     "output_type": "display_data"
    },
    {
     "data": {
      "application/vnd.jupyter.widget-view+json": {
       "model_id": "c8942492d7104407a08608b8ced63a42",
       "version_major": 2,
       "version_minor": 0
      },
      "text/plain": [
       "  0%|          | 0/100 [00:00<?, ?it/s]"
      ]
     },
     "metadata": {},
     "output_type": "display_data"
    },
    {
     "data": {
      "application/vnd.jupyter.widget-view+json": {
       "model_id": "56161138909943e2aec7901d7ae90444",
       "version_major": 2,
       "version_minor": 0
      },
      "text/plain": [
       "  0%|          | 0/100 [00:00<?, ?it/s]"
      ]
     },
     "metadata": {},
     "output_type": "display_data"
    },
    {
     "data": {
      "application/vnd.jupyter.widget-view+json": {
       "model_id": "d839a8088f6f454c985a8a0595ebae55",
       "version_major": 2,
       "version_minor": 0
      },
      "text/plain": [
       "  0%|          | 0/100 [00:00<?, ?it/s]"
      ]
     },
     "metadata": {},
     "output_type": "display_data"
    },
    {
     "data": {
      "application/vnd.jupyter.widget-view+json": {
       "model_id": "9352e2dbafd544f5b352fec672fc90a6",
       "version_major": 2,
       "version_minor": 0
      },
      "text/plain": [
       "  0%|          | 0/100 [00:00<?, ?it/s]"
      ]
     },
     "metadata": {},
     "output_type": "display_data"
    },
    {
     "data": {
      "application/vnd.jupyter.widget-view+json": {
       "model_id": "e36deb9d6046424e83f8c860f59c7efd",
       "version_major": 2,
       "version_minor": 0
      },
      "text/plain": [
       "  0%|          | 0/100 [00:00<?, ?it/s]"
      ]
     },
     "metadata": {},
     "output_type": "display_data"
    },
    {
     "data": {
      "application/vnd.jupyter.widget-view+json": {
       "model_id": "d8ce99412638480397fb166d83a265ec",
       "version_major": 2,
       "version_minor": 0
      },
      "text/plain": [
       "  0%|          | 0/100 [00:00<?, ?it/s]"
      ]
     },
     "metadata": {},
     "output_type": "display_data"
    },
    {
     "data": {
      "application/vnd.jupyter.widget-view+json": {
       "model_id": "1843e8271f1d49b789587ad16cb372b1",
       "version_major": 2,
       "version_minor": 0
      },
      "text/plain": [
       "  0%|          | 0/100 [00:00<?, ?it/s]"
      ]
     },
     "metadata": {},
     "output_type": "display_data"
    },
    {
     "data": {
      "application/vnd.jupyter.widget-view+json": {
       "model_id": "0c73329e3b5d43578cdb63f9d4d63558",
       "version_major": 2,
       "version_minor": 0
      },
      "text/plain": [
       "  0%|          | 0/100 [00:00<?, ?it/s]"
      ]
     },
     "metadata": {},
     "output_type": "display_data"
    },
    {
     "data": {
      "application/vnd.jupyter.widget-view+json": {
       "model_id": "3a100f91a0404c26985c669ec0e3c147",
       "version_major": 2,
       "version_minor": 0
      },
      "text/plain": [
       "  0%|          | 0/100 [00:00<?, ?it/s]"
      ]
     },
     "metadata": {},
     "output_type": "display_data"
    },
    {
     "data": {
      "application/vnd.jupyter.widget-view+json": {
       "model_id": "f53bf63df96d4f6fb284381a2d3dfe42",
       "version_major": 2,
       "version_minor": 0
      },
      "text/plain": [
       "  0%|          | 0/100 [00:00<?, ?it/s]"
      ]
     },
     "metadata": {},
     "output_type": "display_data"
    },
    {
     "data": {
      "application/vnd.jupyter.widget-view+json": {
       "model_id": "dbafb4acc8864fa3b9bdcf614270f521",
       "version_major": 2,
       "version_minor": 0
      },
      "text/plain": [
       "  0%|          | 0/100 [00:00<?, ?it/s]"
      ]
     },
     "metadata": {},
     "output_type": "display_data"
    },
    {
     "data": {
      "application/vnd.jupyter.widget-view+json": {
       "model_id": "fcb72b5669e145e0a8b435330b32f3fe",
       "version_major": 2,
       "version_minor": 0
      },
      "text/plain": [
       "  0%|          | 0/100 [00:00<?, ?it/s]"
      ]
     },
     "metadata": {},
     "output_type": "display_data"
    },
    {
     "data": {
      "application/vnd.jupyter.widget-view+json": {
       "model_id": "e6f5cf88300f4707baaf2e88b267bff0",
       "version_major": 2,
       "version_minor": 0
      },
      "text/plain": [
       "  0%|          | 0/100 [00:00<?, ?it/s]"
      ]
     },
     "metadata": {},
     "output_type": "display_data"
    },
    {
     "data": {
      "application/vnd.jupyter.widget-view+json": {
       "model_id": "7deb69048daa4199add3d25e89ecffcd",
       "version_major": 2,
       "version_minor": 0
      },
      "text/plain": [
       "  0%|          | 0/100 [00:00<?, ?it/s]"
      ]
     },
     "metadata": {},
     "output_type": "display_data"
    },
    {
     "name": "stdout",
     "output_type": "stream",
     "text": [
      "0.8575581395348837\n",
      "0.8498062015503876\n"
     ]
    }
   ],
   "source": [
    "my_clfs = []\n",
    "for nest in tqdm(range(50)):\n",
    "    idx = np.random.choice(X_train.shape[0], X_train.shape[0], replace=True)\n",
    "    X_sub = X_train[idx]\n",
    "    y_sub = y_train[idx]\n",
    "    my_clf = MyGradientBoostingClassifier(loss='logit', learning_rate=1, n_estimator=100, subsample=1, colsample=0.6)\n",
    "    my_clf.fit(X_sub, y_sub, DecisionTreeRegressor)\n",
    "    my_clfs.append(my_clf)\n",
    "print(finacc)\n",
    "pred = my_clfs[0].predict(X_test)\n",
    "for m in my_clfs[1:]:\n",
    "    pred += m.predict(X_test)\n",
    "pred = (np.around(pred/len(my_clfs))).astype(int)\n",
    "print(accuracy_score(pred, y_test))"
   ]
  },
  {
   "cell_type": "markdown",
   "metadata": {},
   "source": [
    "**Вывод**: BagBoo и BooBag имеют больше гиперпараметров для настройки (отдельно гиперпараметры baggingа и отдельно boostingа), что делает их сложнее в применении. В принципе, при хорошей настройке результат должен быть лучше, но в данном случае добиться улучшения не удалось."
   ]
  },
  {
   "cell_type": "markdown",
   "metadata": {
    "collapsed": true
   },
   "source": [
    "## Умная инициализация (1 балл)\n",
    "\n",
    "Попробуйте брать в качестве инициализации бустинга не константу, а какой-то алгоритм и уже от его предикта стартовать итерации бустинга. Попробуйте разные модели из sklearn: линейные модели, рандом форест, svm..\n",
    "\n",
    "Получилось ли улучшить качество? Почему?\n",
    "\n"
   ]
  },
  {
   "cell_type": "code",
   "execution_count": 41,
   "metadata": {},
   "outputs": [],
   "source": [
    "from sklearn.linear_model import LinearRegression\n",
    "from sklearn.svm import SVR\n",
    "from sklearn.neighbors import KNeighborsRegressor"
   ]
  },
  {
   "cell_type": "code",
   "execution_count": 67,
   "metadata": {},
   "outputs": [
    {
     "data": {
      "application/vnd.jupyter.widget-view+json": {
       "model_id": "d8b61caecce54fa58ebcc84b0834593d",
       "version_major": 2,
       "version_minor": 0
      },
      "text/plain": [
       "  0%|          | 0/100 [00:00<?, ?it/s]"
      ]
     },
     "metadata": {},
     "output_type": "display_data"
    },
    {
     "name": "stdout",
     "output_type": "stream",
     "text": [
      "init_model: Constant, accuracy: 0.8580426356589147\n"
     ]
    }
   ],
   "source": [
    "res = {}\n",
    "my_clf = MyGradientBoostingClassifier(loss='logit', learning_rate=1, n_estimator=100, subsample=1, colsample=0.6, max_depth=30)\n",
    "my_clf.fit(X_train, y_train, DecisionTreeRegressor, init_model=None)\n",
    "acc = accuracy_score(my_clf.predict(X_test), y_test)\n",
    "res['Constant'] = acc\n",
    "print(f\"init_model: Constant, accuracy: {acc}\")"
   ]
  },
  {
   "cell_type": "code",
   "execution_count": 68,
   "metadata": {},
   "outputs": [
    {
     "data": {
      "application/vnd.jupyter.widget-view+json": {
       "model_id": "ad614b79bd234ef5919d17c45ab59f4e",
       "version_major": 2,
       "version_minor": 0
      },
      "text/plain": [
       "  0%|          | 0/100 [00:00<?, ?it/s]"
      ]
     },
     "metadata": {},
     "output_type": "display_data"
    },
    {
     "name": "stdout",
     "output_type": "stream",
     "text": [
      "init_model: LinearRegression, accuracy: 0.8541666666666666\n"
     ]
    }
   ],
   "source": [
    "my_clf = MyGradientBoostingClassifier(loss='logit', learning_rate=1, n_estimator=100, subsample=1, colsample=0.6, max_depth=30)\n",
    "my_clf.fit(X_train, y_train, DecisionTreeRegressor, init_model=LinearRegression)\n",
    "acc = accuracy_score(my_clf.predict(X_test), y_test)\n",
    "res['LinearRegression'] = acc\n",
    "print(f\"init_model: LinearRegression, accuracy: {acc}\")"
   ]
  },
  {
   "cell_type": "code",
   "execution_count": 69,
   "metadata": {},
   "outputs": [
    {
     "data": {
      "application/vnd.jupyter.widget-view+json": {
       "model_id": "6e68babb8cad4c27a9f56aa539597e8b",
       "version_major": 2,
       "version_minor": 0
      },
      "text/plain": [
       "  0%|          | 0/100 [00:00<?, ?it/s]"
      ]
     },
     "metadata": {},
     "output_type": "display_data"
    },
    {
     "name": "stdout",
     "output_type": "stream",
     "text": [
      "init_model: KNeighborsRegressor, accuracy: 0.8546511627906976\n"
     ]
    }
   ],
   "source": [
    "my_clf = MyGradientBoostingClassifier(loss='logit', learning_rate=1, n_estimator=100, subsample=1, colsample=0.6, max_depth=30)\n",
    "my_clf.fit(X_train, y_train, DecisionTreeRegressor, init_model=KNeighborsRegressor)\n",
    "acc = accuracy_score(my_clf.predict(X_test), y_test)\n",
    "res['KNeighborsRegressor'] = acc\n",
    "print(f\"init_model: KNeighborsRegressor, accuracy: {acc}\")"
   ]
  },
  {
   "cell_type": "code",
   "execution_count": 70,
   "metadata": {},
   "outputs": [
    {
     "data": {
      "application/vnd.jupyter.widget-view+json": {
       "model_id": "bf13024fbd4948fdb35915ca6e9b47f6",
       "version_major": 2,
       "version_minor": 0
      },
      "text/plain": [
       "  0%|          | 0/100 [00:00<?, ?it/s]"
      ]
     },
     "metadata": {},
     "output_type": "display_data"
    },
    {
     "name": "stdout",
     "output_type": "stream",
     "text": [
      "init_model: DecisionTreeRegressor, accuracy: 0.8498062015503876\n"
     ]
    }
   ],
   "source": [
    "my_clf = MyGradientBoostingClassifier(loss='logit', learning_rate=1, n_estimator=100, subsample=1, colsample=0.6, max_depth=30)\n",
    "my_clf.fit(X_train, y_train, DecisionTreeRegressor, init_model=DecisionTreeRegressor)\n",
    "acc = accuracy_score(my_clf.predict(X_test), y_test)\n",
    "res['DecisionTreeRegressor'] = acc\n",
    "print(f\"init_model: DecisionTreeRegressor, accuracy: {acc}\")"
   ]
  },
  {
   "cell_type": "code",
   "execution_count": 71,
   "metadata": {},
   "outputs": [
    {
     "data": {
      "application/vnd.jupyter.widget-view+json": {
       "model_id": "8ce7e9eaab6649ff9dd1695008786f91",
       "version_major": 2,
       "version_minor": 0
      },
      "text/plain": [
       "  0%|          | 0/100 [00:00<?, ?it/s]"
      ]
     },
     "metadata": {},
     "output_type": "display_data"
    },
    {
     "name": "stdout",
     "output_type": "stream",
     "text": [
      "init_model: RandomForestRegressor, accuracy: 0.8556201550387597\n"
     ]
    }
   ],
   "source": [
    "my_clf = MyGradientBoostingClassifier(loss='logit', learning_rate=1, n_estimator=100, subsample=1, colsample=0.6, max_depth=30)\n",
    "my_clf.fit(X_train, y_train, DecisionTreeRegressor, init_model=RandomForestRegressor)\n",
    "acc = accuracy_score(my_clf.predict(X_test), y_test)\n",
    "res['RandomForestRegressor'] = acc\n",
    "print(f\"init_model: RandomForestRegressor, accuracy: {acc}\")"
   ]
  },
  {
   "cell_type": "code",
   "execution_count": 72,
   "metadata": {},
   "outputs": [
    {
     "data": {
      "application/vnd.jupyter.widget-view+json": {
       "model_id": "94f0860b836144b5917d0ff08fca0b16",
       "version_major": 2,
       "version_minor": 0
      },
      "text/plain": [
       "  0%|          | 0/10 [00:00<?, ?it/s]"
      ]
     },
     "metadata": {},
     "output_type": "display_data"
    },
    {
     "name": "stdout",
     "output_type": "stream",
     "text": [
      "init_model: SVR, accuracy: 0.5780038759689923\n"
     ]
    }
   ],
   "source": [
    "my_clf = MyGradientBoostingClassifier(loss='logit', learning_rate=1, n_estimator=10, subsample=1, colsample=0.6, max_depth=30)\n",
    "my_clf.fit(X_train, y_train, DecisionTreeRegressor, init_model=SVR)\n",
    "acc = accuracy_score(my_clf.predict(X_test), y_test)\n",
    "res['SVR'] = acc\n",
    "print(f\"init_model: SVR, accuracy: {acc}\")"
   ]
  },
  {
   "cell_type": "markdown",
   "metadata": {},
   "source": [
    "**Вывод**: наибольший потенциал имеет использование RandomForestRegressor. Проблема та же -- больше гиперпараметров, требуется лучшая настройка."
   ]
  },
  {
   "cell_type": "markdown",
   "metadata": {},
   "source": [
    "## Фидбек (бесценно)"
   ]
  },
  {
   "cell_type": "markdown",
   "metadata": {},
   "source": [
    "* Какие аспекты обучения  ансамблей Вам показались непонятными? Какое место стоит дополнительно объяснить?"
   ]
  },
  {
   "cell_type": "markdown",
   "metadata": {},
   "source": [
    "### Ваш ответ здесь"
   ]
  },
  {
   "cell_type": "markdown",
   "metadata": {},
   "source": [
    "* Здесь Вы можете оставить отзыв о этой домашней работе или о всем курсе."
   ]
  },
  {
   "cell_type": "markdown",
   "metadata": {},
   "source": [
    "### ВАШ ОТЗЫВ ЗДЕСЬ\n",
    "\n"
   ]
  },
  {
   "cell_type": "code",
   "execution_count": null,
   "metadata": {
    "collapsed": true
   },
   "outputs": [],
   "source": []
  },
  {
   "cell_type": "code",
   "execution_count": null,
   "metadata": {
    "collapsed": true
   },
   "outputs": [],
   "source": []
  }
 ],
 "metadata": {
  "anaconda-cloud": {},
  "kernelspec": {
   "display_name": "Python 3",
   "language": "python",
   "name": "python3"
  },
  "language_info": {
   "codemirror_mode": {
    "name": "ipython",
    "version": 3
   },
   "file_extension": ".py",
   "mimetype": "text/x-python",
   "name": "python",
   "nbconvert_exporter": "python",
   "pygments_lexer": "ipython3",
   "version": "3.7.10"
  }
 },
 "nbformat": 4,
 "nbformat_minor": 2
}
